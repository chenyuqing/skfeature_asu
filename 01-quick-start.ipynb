{
 "cells": [
  {
   "cell_type": "code",
   "execution_count": 2,
   "metadata": {
    "collapsed": false
   },
   "outputs": [],
   "source": [
    "# Loading an dataset\n",
    "import scipy.io\n",
    "mat = scipy.io.loadmat(\"./data/COIL20.mat\")"
   ]
  },
  {
   "cell_type": "code",
   "execution_count": 3,
   "metadata": {
    "collapsed": false
   },
   "outputs": [
    {
     "name": "stdout",
     "output_type": "stream",
     "text": [
      "[[ 0.01568627  0.01568627  0.01568627 ...,  0.01568627  0.01568627\n",
      "   0.01568627]\n",
      " [ 0.01960784  0.01960784  0.01960784 ...,  0.01960784  0.01960784\n",
      "   0.01960784]\n",
      " [ 0.01568627  0.01568627  0.01568627 ...,  0.01568627  0.01568627\n",
      "   0.01568627]\n",
      " ..., \n",
      " [ 0.          0.          0.         ...,  0.          0.          0.        ]\n",
      " [ 0.          0.          0.         ...,  0.          0.          0.        ]\n",
      " [ 0.          0.          0.         ...,  0.          0.          0.        ]]\n"
     ]
    }
   ],
   "source": [
    "X = mat['X']\n",
    "print(X)"
   ]
  },
  {
   "cell_type": "code",
   "execution_count": 4,
   "metadata": {
    "collapsed": false
   },
   "outputs": [
    {
     "name": "stdout",
     "output_type": "stream",
     "text": [
      "[ 1  1  1 ..., 20 20 20]\n"
     ]
    }
   ],
   "source": [
    "y = mat['Y'][:, 0]\n",
    "print(y)"
   ]
  },
  {
   "cell_type": "code",
   "execution_count": 7,
   "metadata": {
    "collapsed": false
   },
   "outputs": [
    {
     "name": "stdout",
     "output_type": "stream",
     "text": [
      "(1440, 1024)\n"
     ]
    }
   ],
   "source": [
    "# Shape of the data arrays\n",
    "import numpy as np\n",
    "n_samples, n_features = np.shape(X)\n",
    "print(np.shape(X))"
   ]
  },
  {
   "cell_type": "code",
   "execution_count": 8,
   "metadata": {
    "collapsed": false
   },
   "outputs": [
    {
     "name": "stdout",
     "output_type": "stream",
     "text": [
      "(1440,)\n"
     ]
    }
   ],
   "source": [
    "n_labels = np.shape(y)\n",
    "print(n_labels)"
   ]
  },
  {
   "cell_type": "code",
   "execution_count": 9,
   "metadata": {
    "collapsed": true
   },
   "outputs": [
    {
     "name": "stdout",
     "output_type": "stream",
     "text": [
      "[[ 0.          0.          0.         ...,  0.          0.          0.        ]\n",
      " [ 0.02352941  0.02352941  0.02352941 ...,  0.02352941  0.02352941\n",
      "   0.02352941]\n",
      " [ 0.          0.          0.         ...,  0.          0.          0.        ]\n",
      " ..., \n",
      " [ 0.01568627  0.01568627  0.01568627 ...,  0.01568627  0.01568627\n",
      "   0.01568627]\n",
      " [ 0.          0.          0.         ...,  0.          0.          0.        ]\n",
      " [ 0.          0.          0.         ...,  0.          0.          0.        ]]\n",
      "[[ 0.          0.          0.         ...,  0.          0.          0.        ]\n",
      " [ 0.          0.          0.         ...,  0.          0.          0.        ]\n",
      " [ 0.01568627  0.01568627  0.01568627 ...,  0.01568627  0.01568627\n",
      "   0.01568627]\n",
      " ..., \n",
      " [ 0.          0.          0.         ...,  0.          0.          0.        ]\n",
      " [ 0.          0.          0.         ...,  0.          0.          0.        ]\n",
      " [ 0.          0.          0.         ...,  0.          0.          0.        ]]\n",
      "[17  2 12 ...,  1  4 19]\n",
      "[ 8 15  1 10 11 20 18  5 17 17 16 20 12  6 15 19 20 11 11  6 11 11 16 11 18\n",
      "  9  6 17  4  9  2 17 16 13 20  6 20 13 15  2  4  7 20 20  1  9  2  2  8  7\n",
      "  5 16  2 13 10 15 18 14 14 20 11 17  8  6 12  1  3 15  1 14 10  4 13 13 13\n",
      "  4  2 12 17  3  3  3 15 18 14  6  6 11 12  1  2 11 20 17  9 11  2 12  2  7\n",
      "  3  5  8  1  1 14  5 18 15  4  7  8  2  3 12 13  7  6  2  4 14  3 16 12  1\n",
      " 18  6 12  9  2 17  9  9 16 11  2  1 14 11 14 17  7 13 19 18  9 16  4  8  4\n",
      " 18  4  1 17 13  6 12 11  3 11  6 13  1 20 14 11 19  4 10 17 20 19  3 16 19\n",
      "  7  4  4 17 18 15 11  9 18 11  6 12 15  5 15 17 17 11 14  7  9  9  6 18 15\n",
      "  4  4 20  3 10 10  2  6  6 13 14  4  4  4  5 15 17  8  1 18 10 20 17 13  9\n",
      " 15 17 15  5 19  5 14 19  4  9 16 14 13 13  9 15 15 16  7 15 12 19 14  9  3\n",
      "  5  8  2 12  7 17  2 10 10 16  3  2 13 10 17 11  2 18 19 15 20 10 17  8  1\n",
      "  4 15  7 16  6  7 15  7 18 13 15 17  7]\n"
     ]
    },
    {
     "name": "stderr",
     "output_type": "stream",
     "text": [
      "D:\\Program Files\\Anaconda3\\lib\\site-packages\\sklearn\\cross_validation.py:44: DeprecationWarning: This module was deprecated in version 0.18 in favor of the model_selection module into which all the refactored classes and functions are moved. Also note that the interface of the new CV iterators are different from that of this module. This module will be removed in 0.20.\n",
      "  \"This module will be removed in 0.20.\", DeprecationWarning)\n"
     ]
    }
   ],
   "source": [
    "\"\"\"\n",
    "    For Supervised Learning Problems\n",
    "        Split Data into Training and Testing Set\n",
    "\"\"\"\n",
    "from sklearn.cross_validation import train_test_split\n",
    "X_train, X_test, y_train, y_test = train_test_split(X, y, test_size=0.2, random_state=40)\n",
    "print(X_train)\n",
    "print(X_test)\n",
    "print(y_train)\n",
    "print(y_test)"
   ]
  },
  {
   "cell_type": "code",
   "execution_count": 13,
   "metadata": {
    "collapsed": false,
    "scrolled": true
   },
   "outputs": [
    {
     "name": "stdout",
     "output_type": "stream",
     "text": [
      "[ 13.96904931   0.5376816    0.19923194 ...,   3.71944606  14.01720752\n",
      "  14.05075518]\n"
     ]
    }
   ],
   "source": [
    "\"\"\"\n",
    "    Perform Feature Selection on the Training Set\n",
    "\"\"\"\n",
    "# Compute fisher score and output the score of each feature\n",
    "from skfeature.function.similarity_based import fisher_score\n",
    "score = fisher_score.fisher_score(X_train, y_train)\n",
    "print(score)"
   ]
  },
  {
   "cell_type": "code",
   "execution_count": 15,
   "metadata": {
    "collapsed": false
   },
   "outputs": [
    {
     "name": "stdout",
     "output_type": "stream",
     "text": [
      "[1023 1022   31 ...,   34   97  897]\n"
     ]
    }
   ],
   "source": [
    "# Ranking features in an descending order accroding to fisher scores and outputs the ranking index\n",
    "idx = fisher_score.feature_ranking(score)\n",
    "print(idx)"
   ]
  },
  {
   "cell_type": "code",
   "execution_count": 16,
   "metadata": {
    "collapsed": false
   },
   "outputs": [
    {
     "name": "stdout",
     "output_type": "stream",
     "text": [
      "[[ 0.          0.          0.          0.          0.        ]\n",
      " [ 0.02352941  0.02352941  0.02352941  0.02352941  0.02352941]\n",
      " [ 0.          0.          0.          0.          0.        ]\n",
      " ..., \n",
      " [ 0.01568627  0.01568627  0.01568627  0.01568627  0.01568627]\n",
      " [ 0.          0.          0.          0.          0.        ]\n",
      " [ 0.          0.          0.          0.          0.        ]]\n",
      "[[ 0.          0.          0.          0.          0.        ]\n",
      " [ 0.          0.          0.          0.          0.        ]\n",
      " [ 0.01568627  0.01568627  0.01568627  0.01568627  0.01568627]\n",
      " ..., \n",
      " [ 0.          0.          0.          0.          0.        ]\n",
      " [ 0.          0.          0.          0.          0.        ]\n",
      " [ 0.          0.          0.          0.          0.        ]]\n"
     ]
    }
   ],
   "source": [
    "# Specify the number of selected features (e.g. 5) for the evaluation purpose.\n",
    "num_fea = 5\n",
    "selected_features_train = X_train[:, idx[0:num_fea]]\n",
    "selected_features_test = X_test[:, idx[0:num_fea]]\n",
    "\n",
    "print(selected_features_train)\n",
    "print(selected_features_test)"
   ]
  },
  {
   "cell_type": "code",
   "execution_count": 17,
   "metadata": {
    "collapsed": false
   },
   "outputs": [
    {
     "data": {
      "text/plain": [
       "LinearSVC(C=1.0, class_weight=None, dual=True, fit_intercept=True,\n",
       "     intercept_scaling=1, loss='squared_hinge', max_iter=1000,\n",
       "     multi_class='ovr', penalty='l2', random_state=None, tol=0.0001,\n",
       "     verbose=0)"
      ]
     },
     "execution_count": 17,
     "metadata": {},
     "output_type": "execute_result"
    }
   ],
   "source": [
    "\"\"\"\n",
    "    Training a Classification Model with Selected Features\n",
    "\"\"\"\n",
    "# Here we choose the linear SVM as an example.\n",
    "from sklearn import svm\n",
    "clf = svm.LinearSVC()\n",
    "\n",
    "# Then we train a classifiction model with the selected features on the training set\n",
    "clf.fit(selected_features_train, y_train)"
   ]
  },
  {
   "cell_type": "code",
   "execution_count": 19,
   "metadata": {
    "collapsed": false
   },
   "outputs": [
    {
     "name": "stdout",
     "output_type": "stream",
     "text": [
      "[8 8 2 8 8 8 8 8 8 8 8 8 8 8 8 8 8 8 8 8 8 8 8 8 8 8 8 8 8 8 2 8 8 8 8 8 8\n",
      " 8 8 2 8 8 8 8 2 8 2 2 8 8 8 8 2 8 8 8 8 8 8 8 8 8 8 8 8 2 8 8 2 8 8 8 8 8\n",
      " 8 8 2 8 8 8 8 8 8 8 8 8 8 8 8 2 2 8 8 8 8 8 2 8 2 8 8 8 8 2 2 5 8 8 8 8 8\n",
      " 8 2 8 8 8 8 8 2 8 8 8 8 8 2 8 1 8 8 2 8 8 8 8 8 2 2 8 8 8 8 8 8 8 8 8 8 8\n",
      " 8 8 8 8 2 8 8 8 8 8 8 8 8 8 2 8 8 8 8 8 8 8 8 8 8 8 8 8 8 8 8 8 8 8 8 8 8\n",
      " 8 8 8 8 8 8 8 8 8 8 8 8 8 8 8 8 8 8 8 8 8 2 8 8 8 8 8 8 8 8 8 8 8 2 8 8 8\n",
      " 8 8 8 8 8 8 8 8 8 8 8 8 8 8 8 8 8 8 8 8 8 8 8 8 8 8 8 8 8 8 2 8 8 8 2 8 8\n",
      " 8 8 2 8 8 8 8 2 8 8 8 8 8 8 8 2 8 8 8 8 8 8 8 8 8 8 8 8 8]\n"
     ]
    }
   ],
   "source": [
    "# Prediction Phase\n",
    "y_predict = clf.predict(selected_features_test)\n",
    "print(y_predict)"
   ]
  },
  {
   "cell_type": "code",
   "execution_count": 20,
   "metadata": {
    "collapsed": false
   },
   "outputs": [
    {
     "name": "stdout",
     "output_type": "stream",
     "text": [
      "0.09375\n"
     ]
    }
   ],
   "source": [
    "# Performance Evaluation\n",
    "from sklearn.metrics import accuracy_score\n",
    "acc = accuracy_score(y_test, y_predict)\n",
    "print(acc)"
   ]
  },
  {
   "cell_type": "code",
   "execution_count": 22,
   "metadata": {
    "collapsed": true
   },
   "outputs": [
    {
     "name": "stdout",
     "output_type": "stream",
     "text": [
      "  (0, 0)\t1.0\n",
      "  (1, 0)\t0.447090840654\n",
      "  (2, 0)\t0.0285384322997\n",
      "  (3, 0)\t0.00118838361012\n",
      "  (69, 0)\t0.0058397303046\n",
      "  (70, 0)\t0.0743253379721\n",
      "  (71, 0)\t0.318867729788\n",
      "  (0, 1)\t0.447090840654\n",
      "  (1, 1)\t1.0\n",
      "  (2, 1)\t0.207676333998\n",
      "  (3, 1)\t0.0160395254514\n",
      "  (4, 1)\t0.000287234973176\n",
      "  (70, 1)\t0.00630719411365\n",
      "  (71, 1)\t0.040773272425\n",
      "  (0, 2)\t0.0285384322997\n",
      "  (1, 2)\t0.207676333998\n",
      "  (2, 2)\t1.0\n",
      "  (3, 2)\t0.416556692173\n",
      "  (4, 2)\t0.0237129133917\n",
      "  (5, 2)\t0.000133833899097\n",
      "  (71, 2)\t0.00124441604146\n",
      "  (0, 3)\t0.00118838361012\n",
      "  (1, 3)\t0.0160395254514\n",
      "  (2, 3)\t0.416556692173\n",
      "  (3, 3)\t1.0\n",
      "  :\t:\n",
      "  (1436, 1436)\t1.0\n",
      "  (1437, 1436)\t0.242840724568\n",
      "  (1438, 1436)\t0.016476242794\n",
      "  (1439, 1436)\t0.00811143521271\n",
      "  (1368, 1437)\t0.0121318038093\n",
      "  (1434, 1437)\t0.00517555721693\n",
      "  (1435, 1437)\t0.0119552113312\n",
      "  (1436, 1437)\t0.242840724568\n",
      "  (1437, 1437)\t1.0\n",
      "  (1438, 1437)\t0.158641913241\n",
      "  (1439, 1437)\t0.0360336994113\n",
      "  (1368, 1438)\t0.0185343985505\n",
      "  (1372, 1438)\t0.0105227419161\n",
      "  (1435, 1438)\t0.00715919482434\n",
      "  (1436, 1438)\t0.016476242794\n",
      "  (1437, 1438)\t0.158641913241\n",
      "  (1438, 1438)\t1.0\n",
      "  (1439, 1438)\t0.0853886749484\n",
      "  (1368, 1439)\t0.324857107114\n",
      "  (1369, 1439)\t0.0735603284873\n",
      "  (1370, 1439)\t0.0293602942174\n",
      "  (1436, 1439)\t0.00811143521271\n",
      "  (1437, 1439)\t0.0360336994113\n",
      "  (1438, 1439)\t0.0853886749484\n",
      "  (1439, 1439)\t1.0\n"
     ]
    }
   ],
   "source": [
    "\"\"\"\n",
    "    For Unsupervised Learning Problems\n",
    "\"\"\"\n",
    "# Feature Selection\n",
    "from skfeature.utility import construct_W\n",
    "kwargs_W = {'metric':'euclidean', 'neighbor': 'knn', 'weight_mode': 'heat_kernel', 'k': 5, 't': 1}\n",
    "W = construct_W.construct_W(X, **kwargs_W)\n",
    "print(W)"
   ]
  },
  {
   "cell_type": "code",
   "execution_count": 23,
   "metadata": {
    "collapsed": false
   },
   "outputs": [
    {
     "name": "stdout",
     "output_type": "stream",
     "text": [
      "[ 0.01269462  0.00637613  0.00333286 ...,  0.0123851   0.01271441\n",
      "  0.01269681]\n"
     ]
    }
   ],
   "source": [
    "# Compute and output the score of each feature\n",
    "from skfeature.function.similarity_based import lap_score\n",
    "score = lap_score.lap_score(X, W=W)\n",
    "print(score)"
   ]
  },
  {
   "cell_type": "code",
   "execution_count": 25,
   "metadata": {
    "collapsed": false
   },
   "outputs": [
    {
     "name": "stdout",
     "output_type": "stream",
     "text": [
      "[ 34  65 966 ...,  28 963 996]\n"
     ]
    }
   ],
   "source": [
    "# Ranking features in an ascending order according to laplacian scores and output the ranking index\n",
    "idx = lap_score.feature_ranking(score)\n",
    "print(idx)"
   ]
  },
  {
   "cell_type": "code",
   "execution_count": 26,
   "metadata": {
    "collapsed": false
   },
   "outputs": [
    {
     "name": "stdout",
     "output_type": "stream",
     "text": [
      "[[ 0.01568627  0.01568627  0.01568627  0.01568627  0.01568627]\n",
      " [ 0.01960784  0.01960784  0.01960784  0.01960784  0.01960784]\n",
      " [ 0.01568627  0.01568627  0.01568627  0.01568627  0.01568627]\n",
      " ..., \n",
      " [ 0.          0.          0.          0.          0.        ]\n",
      " [ 0.          0.          0.          0.          0.        ]\n",
      " [ 0.          0.          0.          0.          0.        ]]\n"
     ]
    }
   ],
   "source": [
    "# Specify the number of selected features for the evaluation purpose\n",
    "num_fea = 5\n",
    "selected_features = X[:, idx[0:num_fea]]\n",
    "print(selected_features)"
   ]
  },
  {
   "cell_type": "code",
   "execution_count": 30,
   "metadata": {
    "collapsed": false
   },
   "outputs": [
    {
     "name": "stdout",
     "output_type": "stream",
     "text": [
      "20\n"
     ]
    }
   ],
   "source": [
    "# Performance Evaluation\n",
    "from skfeature.utility import unsupervised_evaluation\n",
    "import numpy as np\n",
    "num_cluster = len(np.unique(y))\n",
    "print(num_cluster)"
   ]
  },
  {
   "cell_type": "code",
   "execution_count": 36,
   "metadata": {
    "collapsed": false
   },
   "outputs": [
    {
     "name": "stdout",
     "output_type": "stream",
     "text": [
      "0.409604275742\n",
      "0.170138888889\n"
     ]
    }
   ],
   "source": [
    "# Here we use normalized mutual information score(NMI), accuracy(ACC)\n",
    "nmi, acc = unsupervised_evaluation.evaluation(X_selected=selected_features, n_clusters=num_cluster, y=y)\n",
    "print(nmi)\n",
    "print(acc)"
   ]
  }
 ],
 "metadata": {
  "kernelspec": {
   "display_name": "Python [default]",
   "language": "python",
   "name": "python3"
  },
  "language_info": {
   "codemirror_mode": {
    "name": "ipython",
    "version": 3
   },
   "file_extension": ".py",
   "mimetype": "text/x-python",
   "name": "python",
   "nbconvert_exporter": "python",
   "pygments_lexer": "ipython3",
   "version": "3.5.2"
  }
 },
 "nbformat": 4,
 "nbformat_minor": 1
}
